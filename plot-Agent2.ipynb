{
  "nbformat": 4,
  "nbformat_minor": 0,
  "metadata": {
    "colab": {
      "provenance": []
    },
    "kernelspec": {
      "name": "python3",
      "display_name": "Python 3"
    },
    "language_info": {
      "name": "python"
    }
  },
  "cells": [
    {
      "cell_type": "code",
      "execution_count": 4,
      "metadata": {
        "colab": {
          "base_uri": "https://localhost:8080/"
        },
        "id": "lC6W_r6a2wQE",
        "outputId": "80ba47dc-fe78-4f79-803f-1c8f01ecf07e"
      },
      "outputs": [
        {
          "output_type": "stream",
          "name": "stdout",
          "text": [
            "Plot saved to sentiment_trend.png\n"
          ]
        }
      ],
      "source": [
        "# agent_sentiment_plot.py\n",
        "\n",
        "import pandas as pd\n",
        "import matplotlib.pyplot as plt\n",
        "from datetime import datetime\n",
        "\n",
        "DATA_PATH = \"Restaurant reviews.csv\"\n",
        "\n",
        "def infer_sentiment(rating):\n",
        "    try:\n",
        "        rating = float(rating)\n",
        "    except ValueError:\n",
        "        return \"unknown\"\n",
        "\n",
        "    if rating >= 4.0:\n",
        "        return \"positive\"\n",
        "    elif 3.0 <= rating < 4.0:\n",
        "        return \"neutral\"\n",
        "    elif rating < 3.0:\n",
        "        return \"negative\"\n",
        "    else:\n",
        "        return \"unknown\"\n",
        "\n",
        "def plot_sentiment_trends(start_date, end_date, save_path=\"sentiment_trend.png\"):\n",
        "    df = pd.read_csv(DATA_PATH)\n",
        "    df['timestamp'] = pd.to_datetime(df['Time'], errors='coerce')\n",
        "    df = df.dropna(subset=['timestamp'])\n",
        "    df['sentiment'] = df['Rating'].apply(infer_sentiment)\n",
        "\n",
        "    # Filter by date range\n",
        "    mask = (df['timestamp'] >= start_date) & (df['timestamp'] <= end_date)\n",
        "    df_filtered = df.loc[mask]\n",
        "\n",
        "    # Group by date and sentiment\n",
        "    grouped = df_filtered.groupby([df_filtered['timestamp'].dt.date, 'sentiment']).size().unstack(fill_value=0)\n",
        "\n",
        "    # Plot\n",
        "    grouped.plot(kind='bar', stacked=True, figsize=(12, 6))\n",
        "    plt.title(f\"Sentiment Trends from {start_date} to {end_date}\")\n",
        "    plt.xlabel(\"Date\")\n",
        "    plt.ylabel(\"Number of Reviews\")\n",
        "    plt.xticks(rotation=45)\n",
        "    plt.tight_layout()\n",
        "    plt.savefig(save_path)\n",
        "    plt.close()\n",
        "    print(f\"Plot saved to {save_path}\")\n",
        "\n",
        "\n",
        "# Example usage\n",
        "if __name__ == \"__main__\":\n",
        "    plot_sentiment_trends(\"2019-03-22\", \"2019-03-29\")"
      ]
    }
  ]
}